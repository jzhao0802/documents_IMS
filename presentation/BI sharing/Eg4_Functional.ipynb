{
 "cells": [
  {
   "cell_type": "markdown",
   "metadata": {},
   "source": [
    "# Example 4 Functional in R"
   ]
  },
  {
   "cell_type": "markdown",
   "metadata": {},
   "source": [
    "### This example would use the 2-stage model in BI IPF project to illustrate how to do functional in R\n",
    "#### 1. Loading in the relevant packages and reading in data"
   ]
  },
  {
   "cell_type": "code",
   "execution_count": 1,
   "metadata": {
    "collapsed": false
   },
   "outputs": [
    {
     "name": "stderr",
     "output_type": "stream",
     "text": [
      "\n",
      "Attaching package: 'dplyr'\n",
      "\n",
      "The following objects are masked from 'package:stats':\n",
      "\n",
      "    filter, lag\n",
      "\n",
      "The following objects are masked from 'package:base':\n",
      "\n",
      "    intersect, setdiff, setequal, union\n",
      "\n",
      "Loading required package: gplots\n",
      "\n",
      "Attaching package: 'gplots'\n",
      "\n",
      "The following object is masked from 'package:stats':\n",
      "\n",
      "    lowess\n",
      "\n",
      "\n",
      "Attaching package: 'data.table'\n",
      "\n",
      "The following objects are masked from 'package:dplyr':\n",
      "\n",
      "    between, first, last\n",
      "\n"
     ]
    }
   ],
   "source": [
    "library(readr)\n",
    "library(dplyr)\n",
    "library(ROCR)\n",
    "library(PRROC)\n",
    "library(data.table)\n",
    "\n",
    "inpath <- 'D:/Project_2016/Spark/template_code/template_Data/'\n",
    "outpath <- 'D:/Project_2017/Training_0331/Functional_results/'\n",
    "mdata_fnm <- 'Model_Tempdata_2stage_FoldID.csv'\n",
    "rdata_fnm <- 'Rep_Tempdata_2stage_FoldID.csv'\n",
    "\n",
    "mdata <- read_csv(paste0(inpath, mdata_fnm))\n",
    "rdata <- read_csv(paste0(inpath, rdata_fnm))"
   ]
  },
  {
   "cell_type": "code",
   "execution_count": 2,
   "metadata": {
    "collapsed": false
   },
   "outputs": [
    {
     "data": {
      "text/html": [
       "<ol class=list-inline>\n",
       "\t<li>40200</li>\n",
       "\t<li>16</li>\n",
       "</ol>\n"
      ],
      "text/latex": [
       "\\begin{enumerate*}\n",
       "\\item 40200\n",
       "\\item 16\n",
       "\\end{enumerate*}\n"
      ],
      "text/markdown": [
       "1. 40200\n",
       "2. 16\n",
       "\n",
       "\n"
      ],
      "text/plain": [
       "[1] 40200    16"
      ]
     },
     "metadata": {},
     "output_type": "display_data"
    },
    {
     "data": {
      "text/html": [
       "<ol class=list-inline>\n",
       "\t<li>130600</li>\n",
       "\t<li>16</li>\n",
       "</ol>\n"
      ],
      "text/latex": [
       "\\begin{enumerate*}\n",
       "\\item 130600\n",
       "\\item 16\n",
       "\\end{enumerate*}\n"
      ],
      "text/markdown": [
       "1. 130600\n",
       "2. 16\n",
       "\n",
       "\n"
      ],
      "text/plain": [
       "[1] 130600     16"
      ]
     },
     "metadata": {},
     "output_type": "display_data"
    }
   ],
   "source": [
    "dim(mdata)\n",
    "dim(rdata)"
   ]
  },
  {
   "cell_type": "markdown",
   "metadata": {},
   "source": [
    "#### We will do 5-fold outer cross-evaluation and 4-fold inner cross-evaluation"
   ]
  },
  {
   "cell_type": "code",
   "execution_count": 7,
   "metadata": {
    "collapsed": true
   },
   "outputs": [],
   "source": [
    "ofold_seq <- c(0, 1, 2, 3, 4)\n",
    "ifold_seq <- c(0, 1, 2, 3)"
   ]
  },
  {
   "cell_type": "markdown",
   "metadata": {},
   "source": [
    "#### 2. Defining 3 functions to help us to access the results\n",
    "#### Function 1: to summarize the results from inner cross-evaluation"
   ]
  },
  {
   "cell_type": "code",
   "execution_count": 3,
   "metadata": {
    "collapsed": true
   },
   "outputs": [],
   "source": [
    "pred_dt <- function(pred_all){\n",
    "  function(dt){\n",
    "    pred_ls <- lapply(pred_all, function(x)x[[dt]])\n",
    "    return(rbindlist(pred_ls))\n",
    "  }\n",
    "}"
   ]
  },
  {
   "cell_type": "markdown",
   "metadata": {},
   "source": [
    "#### Function 2: to subset the data for 2nd stage model"
   ]
  },
  {
   "cell_type": "code",
   "execution_count": 4,
   "metadata": {
    "collapsed": true
   },
   "outputs": [],
   "source": [
    "subset_dt <- function(dt, threshold){\n",
    "  function(all_dt){\n",
    "    dt$patid <- as.character(dt$patid)\n",
    "    all_dt$patid <- as.character(all_dt$patid)\n",
    "    \n",
    "    sublog <- dt %>% \n",
    "      filter(prob >= threshold) %>% \n",
    "      mutate(log_prob = log10(prob)) %>%\n",
    "      inner_join(all_dt, by=\"patid\") %>% \n",
    "      select(-c(label.x, prob, patid)) %>% \n",
    "      rename(label = label.y)\n",
    "    \n",
    "    return(sublog)\n",
    "  }\n",
    "}"
   ]
  },
  {
   "cell_type": "markdown",
   "metadata": {},
   "source": [
    "#### Function 3: to summarize the results from cross-evaluation and export"
   ]
  },
  {
   "cell_type": "code",
   "execution_count": 5,
   "metadata": {
    "collapsed": true
   },
   "outputs": [],
   "source": [
    "predict_all <- function(pred_all, name){\n",
    "  aucobj <- prediction(pred_all$prob, pred_all$label)\n",
    "  auc_all <- performance(aucobj, 'auc')@y.values\n",
    "  aupr_all <- pr.curve(scores.class0 = pred_all$prob, weights.class0 = pred_all$label)$auc.integral\n",
    "  perf_all <- data.frame(AUC=auc_all[[1]], AUPR=aupr_all)\n",
    "  write_csv(perf_all, paste0(outpath, name, '_auc_aupr.csv'))\n",
    "}\n"
   ]
  },
  {
   "cell_type": "markdown",
   "metadata": {},
   "source": [
    "#### 3. Do the nested cross-evaluation with standard LR"
   ]
  },
  {
   "cell_type": "code",
   "execution_count": 8,
   "metadata": {
    "collapsed": false
   },
   "outputs": [
    {
     "name": "stdout",
     "output_type": "stream",
     "text": [
      "Time difference of 34.9805 secs\n"
     ]
    }
   ],
   "source": [
    "tm1 <- Sys.time()\n",
    "# Outer loops\n",
    "pred2nd_all <- lapply(ofold_seq, function(x){\n",
    "  \n",
    "  # Split the data into training, test and rep for each outer loop   \n",
    "  tr <- mdata %>% filter(OuterFoldID !=x) %>% select(-c(matched_patient_id))\n",
    "  ts <- mdata %>% filter(OuterFoldID ==x) %>% select(-c(OuterFoldID, InnerFoldID,matched_patient_id, patid))\n",
    "  rep <- rdata %>% filter(OuterFoldID ==x) %>% select(-c(OuterFoldID, InnerFoldID, matched_patient_id, patid))\n",
    "  \n",
    "  # These dataset only contains InnerFoldID, OuterFoldID, Patient_ID and Matched_ID\n",
    "  tr_for2nd <- mdata %>% filter(OuterFoldID !=x) %>% select(-c(OuterFoldID, InnerFoldID,matched_patient_id))\n",
    "  ts_for2nd <- mdata %>% filter(OuterFoldID ==x) %>% select(-c(OuterFoldID, InnerFoldID,matched_patient_id))\n",
    "  rep_for2nd <- rdata %>% filter(OuterFoldID ==x) %>% select(-c(OuterFoldID, InnerFoldID,matched_patient_id))\n",
    "  \n",
    "  # Inner loops  \n",
    "  pred1st_all <- lapply(ifold_seq, function(y){\n",
    "    \n",
    "    # Split data into cv_training, cv_test  \n",
    "    cv_tr <- tr %>% filter(InnerFoldID !=y) %>% select(-c(OuterFoldID, InnerFoldID, patid))\n",
    "    cv_ts <- tr %>% filter(InnerFoldID ==y) %>% select(-c(OuterFoldID, InnerFoldID, patid))\n",
    "    cv_ts_patid <- tr %>% filter(InnerFoldID ==y) %>% select(patid)\n",
    "    \n",
    "    # Train the standard LR on cv_training data  \n",
    "    cv_lr <- glm(label~., data = cv_tr, family=binomial)\n",
    "      \n",
    "    # Predict on all the datasets\n",
    "    pred_cvtr <- predict(cv_lr, cv_tr, type='response')\n",
    "    pred_cvts <- predict(cv_lr, cv_ts, type=\"response\" )\n",
    "    pred_ts <- predict(cv_lr, ts, type=\"response\" )\n",
    "    pred_rep <- predict(cv_lr, rep, type=\"response\" )\n",
    "    \n",
    "    # Generate the dataframe contains predicted scores and labels \n",
    "    pred_lb_cvtr <- data.frame(label=cv_tr$label, prob=pred_cvtr)\n",
    "    pred_lb_cvts <- data.frame(label=cv_ts$label, prob=pred_cvts)\n",
    "      \n",
    "    # Export the performance for each inner cross-evaluation  \n",
    "    predict_all(pred_lb_cvtr, paste0('cvtr_outer', x, '_inner', y))\n",
    "    predict_all(pred_lb_cvts, paste0('cvts_outer', x, '_inner', y))\n",
    "    \n",
    "    # Summarize the results into a list  \n",
    "    pred_ls <- list(\n",
    "      cvts = data.frame(label=cv_ts$label, patid=cv_ts_patid, prob=pred_cvts),\n",
    "      ts = data.frame(label=ts$label, patid=ts_for2nd$patid, prob=pred_ts),\n",
    "      rep = data.frame(label=rep$label, patid=rep_for2nd$patid, prob=pred_rep)\n",
    "    )\n",
    "    \n",
    "    # The function would return the list\n",
    "    return(pred_ls)\n",
    "    \n",
    "  })\n",
    "  \n",
    "  # Call function 1 to summarize the predictions accross inner loops  \n",
    "  pred_tr <- pred_dt(pred1st_all)('cvts')\n",
    "  pred_ts <- pred_dt(pred1st_all)('ts')\n",
    "  pred_rep <- pred_dt(pred1st_all)('rep')\n",
    "  \n",
    "  # Averaging the predictions for test and rep data  \n",
    "  avg_pred_ts <- aggregate(pred_ts, list(pred_ts$patid), mean)[, -1]\n",
    "  avg_pred_rep <- aggregate(pred_rep, list(pred_rep$patid), mean)[, -1]\n",
    "  \n",
    "  # Find the top 25% score based on the combined predictions on training data\n",
    "  pct <- pred_tr %>% \n",
    "    filter(label==1) %>% \n",
    "    summarise(thres=quantile(prob, probs=0.75))\n",
    "  threshold <- pct$thres\n",
    "  \n",
    "  # Subset the training, test and rep data by function 2\n",
    "  pred_tr <- data.frame(pred_tr)\n",
    "  subtr <- subset_dt(pred_tr, threshold)(tr_for2nd)\n",
    "  subts <- subset_dt(avg_pred_ts, threshold)(ts_for2nd)\n",
    "  subrep <- subset_dt(avg_pred_rep, threshold)(rep_for2nd)\n",
    "\n",
    "  # Train teh 2nd stage model and predict\n",
    "  lr2nd <- glm(label~., data = subtr, family=binomial)\n",
    "  pred_subtr <- predict(lr2nd, subtr, type=\"response\" )\n",
    "  pred_subts <- predict(lr2nd, subts, type=\"response\" )\n",
    "  pred_subrep <- predict(lr2nd, subrep, type=\"response\" )\n",
    "  \n",
    "  # Summarize the results into a list  \n",
    "  pred_subls <- list(\n",
    "    subtr = data.frame(label=subtr$label, prob=pred_subtr),\n",
    "    subts = data.frame(label=subts$label, prob=pred_subts),\n",
    "    subrep = data.frame(label=subrep$label, prob=pred_subrep)\n",
    "  )\n",
    "  \n",
    "  # Return the list  \n",
    "  return(pred_subls)\n",
    "  \n",
    "})\n",
    "print( Sys.time()-tm1)"
   ]
  },
  {
   "cell_type": "markdown",
   "metadata": {},
   "source": [
    "#### 4. Summarize the results from 2nd stage model by recalling function 1"
   ]
  },
  {
   "cell_type": "code",
   "execution_count": 9,
   "metadata": {
    "collapsed": true
   },
   "outputs": [],
   "source": [
    "pred_subtr <- pred_dt(pred2nd_all)('subtr')\n",
    "pred_subts <- pred_dt(pred2nd_all)('subts')\n",
    "pred_subrep <- pred_dt(pred2nd_all)('subrep')"
   ]
  },
  {
   "cell_type": "markdown",
   "metadata": {},
   "source": [
    "#### 5. Export the summarized results by recalling function 3"
   ]
  },
  {
   "cell_type": "code",
   "execution_count": 10,
   "metadata": {
    "collapsed": true
   },
   "outputs": [],
   "source": [
    "predict_all(pred_subtr, 'subtr')\n",
    "predict_all(pred_subts, 'subts')\n",
    "pred_tsrep <- rbind(pred_subts, pred_subrep)\n",
    "predict_all(pred_tsrep, 'subtsrep')"
   ]
  },
  {
   "cell_type": "markdown",
   "metadata": {},
   "source": [
    "#### 6. Summarize the cv performance by `do.call`"
   ]
  },
  {
   "cell_type": "code",
   "execution_count": 11,
   "metadata": {
    "collapsed": true
   },
   "outputs": [],
   "source": [
    "# Get all the files in a directory\n",
    "files_cvtr <- list.files(path = outpath, pattern = 'cvtr_*', full.names = T, recursive = F)\n",
    "files_cvts <- list.files(path = outpath, pattern = 'cvts_*', full.names = T, recursive = F)\n",
    "\n",
    "# rbind the performance from cv_training\n",
    "perf_cvtr <- do.call('rbind', lapply(files_cvtr, function(x){\n",
    "  read_csv(x)\n",
    "}))\n",
    "\n",
    "# rbind the performance from cv_test\n",
    "perf_cvts <- do.call('rbind', lapply(files_cvts, function(x){\n",
    "  read_csv(x)\n",
    "}))\n",
    "\n",
    "# cbind them together \n",
    "perf_r <- data.frame(perf_cvtr, perf_cvts)\n",
    "\n",
    "# Calculate the mean by column\n",
    "perf_meanr <- colMeans(perf_r)\n",
    "\n",
    "# Export it \n",
    "perf_r_f <- rbind(perf_r, perf_meanr)\n",
    "names(perf_r_f) <- c('cvtr_auc', 'cvtr_aupr', 'cvts_auc', 'cvts_aupr')\n",
    "name <- c(seq(1:20), \"Mean\")\n",
    "perf_r_f2 <- cbind(name, perf_r_f)\n",
    "write_csv(perf_r_f2, paste0(outpath, 'cv_R_auc_aupr.csv'))"
   ]
  },
  {
   "cell_type": "code",
   "execution_count": 23,
   "metadata": {
    "collapsed": false
   },
   "outputs": [],
   "source": []
  },
  {
   "cell_type": "code",
   "execution_count": null,
   "metadata": {
    "collapsed": true
   },
   "outputs": [],
   "source": []
  }
 ],
 "metadata": {
  "anaconda-cloud": {},
  "kernelspec": {
   "display_name": "R 3.3",
   "language": "R",
   "name": "ir32"
  },
  "language_info": {
   "codemirror_mode": "r",
   "file_extension": ".r",
   "mimetype": "text/x-r-source",
   "name": "R",
   "pygments_lexer": "r",
   "version": "3.3.2"
  }
 },
 "nbformat": 4,
 "nbformat_minor": 1
}
