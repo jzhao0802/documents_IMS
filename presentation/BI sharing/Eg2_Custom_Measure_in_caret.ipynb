{
 "cells": [
  {
   "cell_type": "markdown",
   "metadata": {},
   "source": [
    "# Example 2 Custom measures in caret package"
   ]
  },
  {
   "cell_type": "markdown",
   "metadata": {},
   "source": [
    "### Loading in relevant package and register cores for parallelization"
   ]
  },
  {
   "cell_type": "code",
   "execution_count": 1,
   "metadata": {
    "collapsed": false
   },
   "outputs": [
    {
     "name": "stderr",
     "output_type": "stream",
     "text": [
      "Loading required package: lattice\n",
      "Loading required package: ggplot2\n",
      "Loading required package: foreach\n",
      "Loading required package: iterators\n",
      "Loading required package: parallel\n",
      "\n",
      "Attaching package: 'dplyr'\n",
      "\n",
      "The following objects are masked from 'package:stats':\n",
      "\n",
      "    filter, lag\n",
      "\n",
      "The following objects are masked from 'package:base':\n",
      "\n",
      "    intersect, setdiff, setequal, union\n",
      "\n",
      "Warning message:\n",
      "\"package 'xgboost' was built under R version 3.3.3\"\n",
      "Attaching package: 'xgboost'\n",
      "\n",
      "The following object is masked from 'package:dplyr':\n",
      "\n",
      "    slice\n",
      "\n"
     ]
    }
   ],
   "source": [
    "library(caret)\n",
    "library(doParallel)\n",
    "library(readr)\n",
    "library(dplyr)\n",
    "library(xgboost)\n",
    "\n",
    "registerDoParallel(cores=4)\n",
    "\n",
    "setwd(\"D:/Project_2017/Training_0331\")"
   ]
  },
  {
   "cell_type": "markdown",
   "metadata": {},
   "source": [
    "### Reading in the data\n",
    "#### The data is the Titanic survival data which is from Kaggle"
   ]
  },
  {
   "cell_type": "code",
   "execution_count": 2,
   "metadata": {
    "collapsed": false
   },
   "outputs": [
    {
     "data": {
      "text/html": [
       "<table>\n",
       "<thead><tr><th scope=col>y</th><th scope=col>Pclass</th><th scope=col>Sex</th><th scope=col>Age</th><th scope=col>SibSp</th><th scope=col>Parch</th><th scope=col>Fare</th><th scope=col>Embarked</th></tr></thead>\n",
       "<tbody>\n",
       "\t<tr><td>0       </td><td>1       </td><td>1       </td><td>40.0    </td><td>0       </td><td>0       </td><td> 27.7208</td><td>0       </td></tr>\n",
       "\t<tr><td>1       </td><td>1       </td><td>0       </td><td>29.9    </td><td>1       </td><td>0       </td><td>146.5208</td><td>0       </td></tr>\n",
       "\t<tr><td>0       </td><td>2       </td><td>1       </td><td>66.0    </td><td>0       </td><td>0       </td><td> 10.5000</td><td>2       </td></tr>\n",
       "\t<tr><td>0       </td><td>1       </td><td>1       </td><td>42.0    </td><td>1       </td><td>0       </td><td> 52.0000</td><td>2       </td></tr>\n",
       "\t<tr><td>1       </td><td>2       </td><td>0       </td><td> 5.0    </td><td>1       </td><td>2       </td><td> 27.7500</td><td>2       </td></tr>\n",
       "\t<tr><td>1       </td><td>3       </td><td>1       </td><td>29.9    </td><td>1       </td><td>1       </td><td> 15.2458</td><td>0       </td></tr>\n",
       "</tbody>\n",
       "</table>\n"
      ],
      "text/latex": [
       "\\begin{tabular}{r|llllllll}\n",
       " y & Pclass & Sex & Age & SibSp & Parch & Fare & Embarked\\\\\n",
       "\\hline\n",
       "\t 0        & 1        & 1        & 40.0     & 0        & 0        &  27.7208 & 0       \\\\\n",
       "\t 1        & 1        & 0        & 29.9     & 1        & 0        & 146.5208 & 0       \\\\\n",
       "\t 0        & 2        & 1        & 66.0     & 0        & 0        &  10.5000 & 2       \\\\\n",
       "\t 0        & 1        & 1        & 42.0     & 1        & 0        &  52.0000 & 2       \\\\\n",
       "\t 1        & 2        & 0        &  5.0     & 1        & 2        &  27.7500 & 2       \\\\\n",
       "\t 1        & 3        & 1        & 29.9     & 1        & 1        &  15.2458 & 0       \\\\\n",
       "\\end{tabular}\n"
      ],
      "text/markdown": [
       "\n",
       "y | Pclass | Sex | Age | SibSp | Parch | Fare | Embarked | \n",
       "|---|---|---|---|---|---|\n",
       "| 0        | 1        | 1        | 40.0     | 0        | 0        |  27.7208 | 0        | \n",
       "| 1        | 1        | 0        | 29.9     | 1        | 0        | 146.5208 | 0        | \n",
       "| 0        | 2        | 1        | 66.0     | 0        | 0        |  10.5000 | 2        | \n",
       "| 0        | 1        | 1        | 42.0     | 1        | 0        |  52.0000 | 2        | \n",
       "| 1        | 2        | 0        |  5.0     | 1        | 2        |  27.7500 | 2        | \n",
       "| 1        | 3        | 1        | 29.9     | 1        | 1        |  15.2458 | 0        | \n",
       "\n",
       "\n"
      ],
      "text/plain": [
       "  y Pclass Sex Age  SibSp Parch Fare     Embarked\n",
       "1 0 1      1   40.0 0     0      27.7208 0       \n",
       "2 1 1      0   29.9 1     0     146.5208 0       \n",
       "3 0 2      1   66.0 0     0      10.5000 2       \n",
       "4 0 1      1   42.0 1     0      52.0000 2       \n",
       "5 1 2      0    5.0 1     2      27.7500 2       \n",
       "6 1 3      1   29.9 1     1      15.2458 0       "
      ]
     },
     "metadata": {},
     "output_type": "display_data"
    }
   ],
   "source": [
    "datafile <- './data_for_testing.csv'\n",
    "data <- readr::read_csv(datafile)\n",
    "head(data)"
   ]
  },
  {
   "cell_type": "markdown",
   "metadata": {},
   "source": [
    "#### 1. As we will do classification, we need to convert the label to factor"
   ]
  },
  {
   "cell_type": "code",
   "execution_count": 3,
   "metadata": {
    "collapsed": false
   },
   "outputs": [
    {
     "data": {
      "text/html": [
       "<table>\n",
       "<thead><tr><th scope=col>Pclass</th><th scope=col>Sex</th><th scope=col>Age</th><th scope=col>SibSp</th><th scope=col>Parch</th><th scope=col>Fare</th><th scope=col>Embarked</th><th scope=col>response</th></tr></thead>\n",
       "<tbody>\n",
       "\t<tr><td>1       </td><td>1       </td><td>40.0    </td><td>0       </td><td>0       </td><td> 27.7208</td><td>0       </td><td>D       </td></tr>\n",
       "\t<tr><td>1       </td><td>0       </td><td>29.9    </td><td>1       </td><td>0       </td><td>146.5208</td><td>0       </td><td>S       </td></tr>\n",
       "\t<tr><td>2       </td><td>1       </td><td>66.0    </td><td>0       </td><td>0       </td><td> 10.5000</td><td>2       </td><td>D       </td></tr>\n",
       "\t<tr><td>1       </td><td>1       </td><td>42.0    </td><td>1       </td><td>0       </td><td> 52.0000</td><td>2       </td><td>D       </td></tr>\n",
       "\t<tr><td>2       </td><td>0       </td><td> 5.0    </td><td>1       </td><td>2       </td><td> 27.7500</td><td>2       </td><td>S       </td></tr>\n",
       "\t<tr><td>3       </td><td>1       </td><td>29.9    </td><td>1       </td><td>1       </td><td> 15.2458</td><td>0       </td><td>S       </td></tr>\n",
       "</tbody>\n",
       "</table>\n"
      ],
      "text/latex": [
       "\\begin{tabular}{r|llllllll}\n",
       " Pclass & Sex & Age & SibSp & Parch & Fare & Embarked & response\\\\\n",
       "\\hline\n",
       "\t 1        & 1        & 40.0     & 0        & 0        &  27.7208 & 0        & D       \\\\\n",
       "\t 1        & 0        & 29.9     & 1        & 0        & 146.5208 & 0        & S       \\\\\n",
       "\t 2        & 1        & 66.0     & 0        & 0        &  10.5000 & 2        & D       \\\\\n",
       "\t 1        & 1        & 42.0     & 1        & 0        &  52.0000 & 2        & D       \\\\\n",
       "\t 2        & 0        &  5.0     & 1        & 2        &  27.7500 & 2        & S       \\\\\n",
       "\t 3        & 1        & 29.9     & 1        & 1        &  15.2458 & 0        & S       \\\\\n",
       "\\end{tabular}\n"
      ],
      "text/markdown": [
       "\n",
       "Pclass | Sex | Age | SibSp | Parch | Fare | Embarked | response | \n",
       "|---|---|---|---|---|---|\n",
       "| 1        | 1        | 40.0     | 0        | 0        |  27.7208 | 0        | D        | \n",
       "| 1        | 0        | 29.9     | 1        | 0        | 146.5208 | 0        | S        | \n",
       "| 2        | 1        | 66.0     | 0        | 0        |  10.5000 | 2        | D        | \n",
       "| 1        | 1        | 42.0     | 1        | 0        |  52.0000 | 2        | D        | \n",
       "| 2        | 0        |  5.0     | 1        | 2        |  27.7500 | 2        | S        | \n",
       "| 3        | 1        | 29.9     | 1        | 1        |  15.2458 | 0        | S        | \n",
       "\n",
       "\n"
      ],
      "text/plain": [
       "  Pclass Sex Age  SibSp Parch Fare     Embarked response\n",
       "1 1      1   40.0 0     0      27.7208 0        D       \n",
       "2 1      0   29.9 1     0     146.5208 0        S       \n",
       "3 2      1   66.0 0     0      10.5000 2        D       \n",
       "4 1      1   42.0 1     0      52.0000 2        D       \n",
       "5 2      0    5.0 1     2      27.7500 2        S       \n",
       "6 3      1   29.9 1     1      15.2458 0        S       "
      ]
     },
     "metadata": {},
     "output_type": "display_data"
    }
   ],
   "source": [
    "data$response <- ifelse(data$y==1, 'S', 'D')\n",
    "data$response <- as.factor(data$response)\n",
    "\n",
    "data2 <- data %>% select(-c(y))\n",
    "head(data2)"
   ]
  },
  {
   "cell_type": "markdown",
   "metadata": {},
   "source": [
    "#### 2. Create our own function to pass measure to the tuning"
   ]
  },
  {
   "cell_type": "code",
   "execution_count": 4,
   "metadata": {
    "collapsed": false
   },
   "outputs": [
    {
     "data": {
      "text/html": [
       "<pre class=language-r><code>function (data, lev = NULL, model = NULL) \n",
       "{\n",
       "<span style=white-space:pre-wrap>    if (length(levels(data$obs)) &gt; 2) </span>\n",
       "<span style=white-space:pre-wrap>        stop(paste(\"Your outcome has\", length(levels(data$obs)), </span>\n",
       "<span style=white-space:pre-wrap>            \"levels. The twoClassSummary() function isn't appropriate.\"))</span>\n",
       "<span style=white-space:pre-wrap>    requireNamespaceQuietStop(\"pROC\")</span>\n",
       "<span style=white-space:pre-wrap>    if (!all(levels(data[, \"pred\"]) == levels(data[, \"obs\"]))) </span>\n",
       "<span style=white-space:pre-wrap>        stop(\"levels of observed and predicted data do not match\")</span>\n",
       "<span style=white-space:pre-wrap>    rocObject &lt;- try(pROC::roc(data$obs, data[, lev[1]]), silent = TRUE)</span>\n",
       "<span style=white-space:pre-wrap>    rocAUC &lt;- if (class(rocObject)[1] == \"try-error\") </span>\n",
       "<span style=white-space:pre-wrap>        NA</span>\n",
       "<span style=white-space:pre-wrap>    else rocObject$auc</span>\n",
       "<span style=white-space:pre-wrap>    out &lt;- c(rocAUC, sensitivity(data[, \"pred\"], data[, \"obs\"], </span>\n",
       "<span style=white-space:pre-wrap>        lev[1]), specificity(data[, \"pred\"], data[, \"obs\"], lev[2]))</span>\n",
       "<span style=white-space:pre-wrap>    names(out) &lt;- c(\"ROC\", \"Sens\", \"Spec\")</span>\n",
       "<span style=white-space:pre-wrap>    out</span>\n",
       "}</code></pre>"
      ],
      "text/latex": [
       "\\begin{minted}{r}\n",
       "function (data, lev = NULL, model = NULL) \n",
       "\\{\n",
       "    if (length(levels(data\\$obs)) > 2) \n",
       "        stop(paste(\"Your outcome has\", length(levels(data\\$obs)), \n",
       "            \"levels. The twoClassSummary() function isn't appropriate.\"))\n",
       "    requireNamespaceQuietStop(\"pROC\")\n",
       "    if (!all(levels(data{[}, \"pred\"{]}) == levels(data{[}, \"obs\"{]}))) \n",
       "        stop(\"levels of observed and predicted data do not match\")\n",
       "    rocObject <- try(pROC::roc(data\\$obs, data{[}, lev{[}1{]}{]}), silent = TRUE)\n",
       "    rocAUC <- if (class(rocObject){[}1{]} == \"try-error\") \n",
       "        NA\n",
       "    else rocObject\\$auc\n",
       "    out <- c(rocAUC, sensitivity(data{[}, \"pred\"{]}, data{[}, \"obs\"{]}, \n",
       "        lev{[}1{]}), specificity(data{[}, \"pred\"{]}, data{[}, \"obs\"{]}, lev{[}2{]}))\n",
       "    names(out) <- c(\"ROC\", \"Sens\", \"Spec\")\n",
       "    out\n",
       "\\}\n",
       "\\end{minted}"
      ],
      "text/markdown": [
       "```r\n",
       "function (data, lev = NULL, model = NULL) \n",
       "{\n",
       "    if (length(levels(data$obs)) > 2) \n",
       "        stop(paste(\"Your outcome has\", length(levels(data$obs)), \n",
       "            \"levels. The twoClassSummary() function isn't appropriate.\"))\n",
       "    requireNamespaceQuietStop(\"pROC\")\n",
       "    if (!all(levels(data[, \"pred\"]) == levels(data[, \"obs\"]))) \n",
       "        stop(\"levels of observed and predicted data do not match\")\n",
       "    rocObject <- try(pROC::roc(data$obs, data[, lev[1]]), silent = TRUE)\n",
       "    rocAUC <- if (class(rocObject)[1] == \"try-error\") \n",
       "        NA\n",
       "    else rocObject$auc\n",
       "    out <- c(rocAUC, sensitivity(data[, \"pred\"], data[, \"obs\"], \n",
       "        lev[1]), specificity(data[, \"pred\"], data[, \"obs\"], lev[2]))\n",
       "    names(out) <- c(\"ROC\", \"Sens\", \"Spec\")\n",
       "    out\n",
       "}\n",
       "```"
      ],
      "text/plain": [
       "function (data, lev = NULL, model = NULL) \n",
       "{\n",
       "    if (length(levels(data$obs)) > 2) \n",
       "        stop(paste(\"Your outcome has\", length(levels(data$obs)), \n",
       "            \"levels. The twoClassSummary() function isn't appropriate.\"))\n",
       "    requireNamespaceQuietStop(\"pROC\")\n",
       "    if (!all(levels(data[, \"pred\"]) == levels(data[, \"obs\"]))) \n",
       "        stop(\"levels of observed and predicted data do not match\")\n",
       "    rocObject <- try(pROC::roc(data$obs, data[, lev[1]]), silent = TRUE)\n",
       "    rocAUC <- if (class(rocObject)[1] == \"try-error\") \n",
       "        NA\n",
       "    else rocObject$auc\n",
       "    out <- c(rocAUC, sensitivity(data[, \"pred\"], data[, \"obs\"], \n",
       "        lev[1]), specificity(data[, \"pred\"], data[, \"obs\"], lev[2]))\n",
       "    names(out) <- c(\"ROC\", \"Sens\", \"Spec\")\n",
       "    out\n",
       "}\n",
       "<environment: namespace:caret>"
      ]
     },
     "metadata": {},
     "output_type": "display_data"
    }
   ],
   "source": [
    "twoClassSummary"
   ]
  },
  {
   "cell_type": "code",
   "execution_count": 5,
   "metadata": {
    "collapsed": true
   },
   "outputs": [],
   "source": [
    "ppvAtGivenRecall <- function(data,  lev = NULL, model = NULL){\n",
    "  lvls <- levels(data$obs)\n",
    "  if (length(lvls) > 2) \n",
    "    stop(paste(\"Your outcome has\", length(lvls), \"levels. The ppvAtGivenRecall() function isn't appropriate.\"))\n",
    "  #requireNamespaceQuietStop(\"ModelMetrics\")\n",
    "  if (!all(levels(data[, \"pred\"]) == lvls)) \n",
    "    stop(\"levels of observed and predicted data do not match\")\n",
    "  data$y <- as.numeric(data$obs == lvls[2])\n",
    "  \n",
    "  aucobj <- ROCR::prediction(data[, lvls[1]], ifelse(data$obs == lev[2], 0,1)) \n",
    "\n",
    "  ppvRec <- ROCR::performance(aucobj, 'ppv', 'sens')\n",
    "  \n",
    "  tarPPV <- ppvRec@y.values[[1]][which.min(abs(ppvRec@x.values[[1]]-0.2))]\n",
    "  selRec <- ppvRec@x.values[[1]][which.min(abs(ppvRec@x.values[[1]]-0.2))]\n",
    "\n",
    "  out <- c(tarPPV, selRec, 0.2)\n",
    "  names(out) <- c(\"PPVAtGivenRecall\", \"SelectedRecall\", \"GivenRecall\")\n",
    "  out\n",
    "}\n"
   ]
  },
  {
   "cell_type": "markdown",
   "metadata": {},
   "source": [
    "#### 3. Test our new functions in `train`"
   ]
  },
  {
   "cell_type": "code",
   "execution_count": 6,
   "metadata": {
    "collapsed": false
   },
   "outputs": [
    {
     "name": "stderr",
     "output_type": "stream",
     "text": [
      "Loading required package: plyr\n",
      "------------------------------------------------------------------------------\n",
      "You have loaded plyr after dplyr - this is likely to cause problems.\n",
      "If you need functions from both plyr and dplyr, please load plyr first, then dplyr:\n",
      "library(plyr); library(dplyr)\n",
      "------------------------------------------------------------------------------\n",
      "\n",
      "Attaching package: 'plyr'\n",
      "\n",
      "The following objects are masked from 'package:dplyr':\n",
      "\n",
      "    arrange, count, desc, failwith, id, mutate, rename, summarise,\n",
      "    summarize\n",
      "\n"
     ]
    },
    {
     "name": "stdout",
     "output_type": "stream",
     "text": [
      "Time difference of 7.968797 secs\n"
     ]
    }
   ],
   "source": [
    "ctrl <- trainControl(method='cv', number=3, classProbs=TRUE, \n",
    "                     summaryFunction = ppvAtGivenRecall)\n",
    "\n",
    "\n",
    "grid <- expand.grid(nrounds= c(100, 250),\n",
    "                   max_depth = c(5, 6), \n",
    "                  eta = c(0.1, 0.5)\n",
    "                  )\n",
    "\n",
    "\n",
    "\n",
    "tm1 <- Sys.time()\n",
    "xgb_re <- caret::train(response~., data = data2, method=\"xgbTree\", \n",
    "                tuneGrid=grid, \n",
    "                verbose=T,\n",
    "               trControl=ctrl,metric='PPVAtGivenRecall')\n",
    "\n",
    "\n",
    "print( Sys.time()-tm1)\n"
   ]
  },
  {
   "cell_type": "code",
   "execution_count": 7,
   "metadata": {
    "collapsed": false
   },
   "outputs": [
    {
     "data": {
      "text/plain": [
       "eXtreme Gradient Boosting \n",
       "\n",
       "1309 samples\n",
       "   7 predictor\n",
       "   2 classes: 'D', 'S' \n",
       "\n",
       "No pre-processing\n",
       "Resampling: Cross-Validated (3 fold) \n",
       "Summary of sample sizes: 872, 873, 873 \n",
       "Resampling results across tuning parameters:\n",
       "\n",
       "  eta  max_depth  nrounds  PPVAtGivenRecall  SelectedRecall  GivenRecall\n",
       "  0.1  5          100      0.9277394         0.1997585       0.2        \n",
       "  0.1  5          250      0.9431064         0.1997585       0.2        \n",
       "  0.1  6          100      0.9181983         0.1997585       0.2        \n",
       "  0.1  6          250      0.9327485         0.1997585       0.2        \n",
       "  0.5  5          100      0.9272031         0.1997585       0.2        \n",
       "  0.5  5          250      0.9375609         0.1997585       0.2        \n",
       "  0.5  6          100      0.9377395         0.1997585       0.2        \n",
       "  0.5  6          250      0.9436710         0.1997585       0.2        \n",
       "  PPVAtGivenRecall SD  SelectedRecall SD  GivenRecall SD\n",
       "  0.033057839          0.0004183698       0             \n",
       "  0.018884487          0.0004183698       0             \n",
       "  0.045967345          0.0004183698       0             \n",
       "  0.027854618          0.0004183698       0             \n",
       "  0.018249577          0.0004183698       0             \n",
       "  0.009279446          0.0004183698       0             \n",
       "  0.018249577          0.0004183698       0             \n",
       "  0.034211284          0.0004183698       0             \n",
       "\n",
       "PPVAtGivenRecall was used to select the optimal model using  the largest value.\n",
       "The final values used for the model were nrounds = 250, max_depth = 6 and eta\n",
       " = 0.5. "
      ]
     },
     "metadata": {},
     "output_type": "display_data"
    }
   ],
   "source": [
    "xgb_re"
   ]
  },
  {
   "cell_type": "code",
   "execution_count": null,
   "metadata": {
    "collapsed": true
   },
   "outputs": [],
   "source": []
  }
 ],
 "metadata": {
  "anaconda-cloud": {},
  "kernelspec": {
   "display_name": "R 3.3",
   "language": "R",
   "name": "ir32"
  },
  "language_info": {
   "codemirror_mode": "r",
   "file_extension": ".r",
   "mimetype": "text/x-r-source",
   "name": "R",
   "pygments_lexer": "r",
   "version": "3.3.2"
  }
 },
 "nbformat": 4,
 "nbformat_minor": 1
}
