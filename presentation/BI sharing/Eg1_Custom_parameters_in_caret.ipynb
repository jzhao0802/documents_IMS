{
 "cells": [
  {
   "cell_type": "markdown",
   "metadata": {},
   "source": [
    "# Example 1 Custom parameters in caret package"
   ]
  },
  {
   "cell_type": "markdown",
   "metadata": {},
   "source": [
    "### Loading in relevant package and register cores for parallelization"
   ]
  },
  {
   "cell_type": "code",
   "execution_count": 1,
   "metadata": {
    "collapsed": false
   },
   "outputs": [
    {
     "name": "stderr",
     "output_type": "stream",
     "text": [
      "Loading required package: lattice\n",
      "Loading required package: ggplot2\n",
      "Loading required package: foreach\n",
      "Loading required package: iterators\n",
      "Loading required package: parallel\n",
      "randomForest 4.6-10\n",
      "Type rfNews() to see new features/changes/bug fixes.\n",
      "\n",
      "Attaching package: 'randomForest'\n",
      "\n",
      "The following object is masked from 'package:ggplot2':\n",
      "\n",
      "    margin\n",
      "\n",
      "\n",
      "Attaching package: 'dplyr'\n",
      "\n",
      "The following object is masked from 'package:randomForest':\n",
      "\n",
      "    combine\n",
      "\n",
      "The following objects are masked from 'package:stats':\n",
      "\n",
      "    filter, lag\n",
      "\n",
      "The following objects are masked from 'package:base':\n",
      "\n",
      "    intersect, setdiff, setequal, union\n",
      "\n"
     ]
    }
   ],
   "source": [
    "library(caret)\n",
    "library(doParallel)\n",
    "library(readr)\n",
    "library(randomForest)\n",
    "library(dplyr)\n",
    "\n",
    "registerDoParallel(cores=4)\n",
    "\n",
    "setwd(\"D:/Project_2017/Training_0331\")"
   ]
  },
  {
   "cell_type": "markdown",
   "metadata": {},
   "source": [
    "### Reading in the data\n",
    "#### The data is the Titanic survival data which is from Kaggle"
   ]
  },
  {
   "cell_type": "code",
   "execution_count": 2,
   "metadata": {
    "collapsed": false
   },
   "outputs": [
    {
     "data": {
      "text/html": [
       "<table>\n",
       "<thead><tr><th scope=col>y</th><th scope=col>Pclass</th><th scope=col>Sex</th><th scope=col>Age</th><th scope=col>SibSp</th><th scope=col>Parch</th><th scope=col>Fare</th><th scope=col>Embarked</th></tr></thead>\n",
       "<tbody>\n",
       "\t<tr><td>0       </td><td>1       </td><td>1       </td><td>40.0    </td><td>0       </td><td>0       </td><td> 27.7208</td><td>0       </td></tr>\n",
       "\t<tr><td>1       </td><td>1       </td><td>0       </td><td>29.9    </td><td>1       </td><td>0       </td><td>146.5208</td><td>0       </td></tr>\n",
       "\t<tr><td>0       </td><td>2       </td><td>1       </td><td>66.0    </td><td>0       </td><td>0       </td><td> 10.5000</td><td>2       </td></tr>\n",
       "\t<tr><td>0       </td><td>1       </td><td>1       </td><td>42.0    </td><td>1       </td><td>0       </td><td> 52.0000</td><td>2       </td></tr>\n",
       "\t<tr><td>1       </td><td>2       </td><td>0       </td><td> 5.0    </td><td>1       </td><td>2       </td><td> 27.7500</td><td>2       </td></tr>\n",
       "\t<tr><td>1       </td><td>3       </td><td>1       </td><td>29.9    </td><td>1       </td><td>1       </td><td> 15.2458</td><td>0       </td></tr>\n",
       "</tbody>\n",
       "</table>\n"
      ],
      "text/latex": [
       "\\begin{tabular}{r|llllllll}\n",
       " y & Pclass & Sex & Age & SibSp & Parch & Fare & Embarked\\\\\n",
       "\\hline\n",
       "\t 0        & 1        & 1        & 40.0     & 0        & 0        &  27.7208 & 0       \\\\\n",
       "\t 1        & 1        & 0        & 29.9     & 1        & 0        & 146.5208 & 0       \\\\\n",
       "\t 0        & 2        & 1        & 66.0     & 0        & 0        &  10.5000 & 2       \\\\\n",
       "\t 0        & 1        & 1        & 42.0     & 1        & 0        &  52.0000 & 2       \\\\\n",
       "\t 1        & 2        & 0        &  5.0     & 1        & 2        &  27.7500 & 2       \\\\\n",
       "\t 1        & 3        & 1        & 29.9     & 1        & 1        &  15.2458 & 0       \\\\\n",
       "\\end{tabular}\n"
      ],
      "text/markdown": [
       "\n",
       "y | Pclass | Sex | Age | SibSp | Parch | Fare | Embarked | \n",
       "|---|---|---|---|---|---|\n",
       "| 0        | 1        | 1        | 40.0     | 0        | 0        |  27.7208 | 0        | \n",
       "| 1        | 1        | 0        | 29.9     | 1        | 0        | 146.5208 | 0        | \n",
       "| 0        | 2        | 1        | 66.0     | 0        | 0        |  10.5000 | 2        | \n",
       "| 0        | 1        | 1        | 42.0     | 1        | 0        |  52.0000 | 2        | \n",
       "| 1        | 2        | 0        |  5.0     | 1        | 2        |  27.7500 | 2        | \n",
       "| 1        | 3        | 1        | 29.9     | 1        | 1        |  15.2458 | 0        | \n",
       "\n",
       "\n"
      ],
      "text/plain": [
       "  y Pclass Sex Age  SibSp Parch Fare     Embarked\n",
       "1 0 1      1   40.0 0     0      27.7208 0       \n",
       "2 1 1      0   29.9 1     0     146.5208 0       \n",
       "3 0 2      1   66.0 0     0      10.5000 2       \n",
       "4 0 1      1   42.0 1     0      52.0000 2       \n",
       "5 1 2      0    5.0 1     2      27.7500 2       \n",
       "6 1 3      1   29.9 1     1      15.2458 0       "
      ]
     },
     "metadata": {},
     "output_type": "display_data"
    }
   ],
   "source": [
    "datafile <- './data_for_testing.csv'\n",
    "data <- readr::read_csv(datafile)\n",
    "head(data)"
   ]
  },
  {
   "cell_type": "markdown",
   "metadata": {},
   "source": [
    "#### 1. As we will do classification, we need to convert the label to factor"
   ]
  },
  {
   "cell_type": "code",
   "execution_count": 3,
   "metadata": {
    "collapsed": false
   },
   "outputs": [
    {
     "data": {
      "text/html": [
       "<table>\n",
       "<thead><tr><th scope=col>Pclass</th><th scope=col>Sex</th><th scope=col>Age</th><th scope=col>SibSp</th><th scope=col>Parch</th><th scope=col>Fare</th><th scope=col>Embarked</th><th scope=col>response</th></tr></thead>\n",
       "<tbody>\n",
       "\t<tr><td>1       </td><td>1       </td><td>40.0    </td><td>0       </td><td>0       </td><td> 27.7208</td><td>0       </td><td>D       </td></tr>\n",
       "\t<tr><td>1       </td><td>0       </td><td>29.9    </td><td>1       </td><td>0       </td><td>146.5208</td><td>0       </td><td>S       </td></tr>\n",
       "\t<tr><td>2       </td><td>1       </td><td>66.0    </td><td>0       </td><td>0       </td><td> 10.5000</td><td>2       </td><td>D       </td></tr>\n",
       "\t<tr><td>1       </td><td>1       </td><td>42.0    </td><td>1       </td><td>0       </td><td> 52.0000</td><td>2       </td><td>D       </td></tr>\n",
       "\t<tr><td>2       </td><td>0       </td><td> 5.0    </td><td>1       </td><td>2       </td><td> 27.7500</td><td>2       </td><td>S       </td></tr>\n",
       "\t<tr><td>3       </td><td>1       </td><td>29.9    </td><td>1       </td><td>1       </td><td> 15.2458</td><td>0       </td><td>S       </td></tr>\n",
       "</tbody>\n",
       "</table>\n"
      ],
      "text/latex": [
       "\\begin{tabular}{r|llllllll}\n",
       " Pclass & Sex & Age & SibSp & Parch & Fare & Embarked & response\\\\\n",
       "\\hline\n",
       "\t 1        & 1        & 40.0     & 0        & 0        &  27.7208 & 0        & D       \\\\\n",
       "\t 1        & 0        & 29.9     & 1        & 0        & 146.5208 & 0        & S       \\\\\n",
       "\t 2        & 1        & 66.0     & 0        & 0        &  10.5000 & 2        & D       \\\\\n",
       "\t 1        & 1        & 42.0     & 1        & 0        &  52.0000 & 2        & D       \\\\\n",
       "\t 2        & 0        &  5.0     & 1        & 2        &  27.7500 & 2        & S       \\\\\n",
       "\t 3        & 1        & 29.9     & 1        & 1        &  15.2458 & 0        & S       \\\\\n",
       "\\end{tabular}\n"
      ],
      "text/markdown": [
       "\n",
       "Pclass | Sex | Age | SibSp | Parch | Fare | Embarked | response | \n",
       "|---|---|---|---|---|---|\n",
       "| 1        | 1        | 40.0     | 0        | 0        |  27.7208 | 0        | D        | \n",
       "| 1        | 0        | 29.9     | 1        | 0        | 146.5208 | 0        | S        | \n",
       "| 2        | 1        | 66.0     | 0        | 0        |  10.5000 | 2        | D        | \n",
       "| 1        | 1        | 42.0     | 1        | 0        |  52.0000 | 2        | D        | \n",
       "| 2        | 0        |  5.0     | 1        | 2        |  27.7500 | 2        | S        | \n",
       "| 3        | 1        | 29.9     | 1        | 1        |  15.2458 | 0        | S        | \n",
       "\n",
       "\n"
      ],
      "text/plain": [
       "  Pclass Sex Age  SibSp Parch Fare     Embarked response\n",
       "1 1      1   40.0 0     0      27.7208 0        D       \n",
       "2 1      0   29.9 1     0     146.5208 0        S       \n",
       "3 2      1   66.0 0     0      10.5000 2        D       \n",
       "4 1      1   42.0 1     0      52.0000 2        D       \n",
       "5 2      0    5.0 1     2      27.7500 2        S       \n",
       "6 3      1   29.9 1     1      15.2458 0        S       "
      ]
     },
     "metadata": {},
     "output_type": "display_data"
    }
   ],
   "source": [
    "data$response <- ifelse(data$y==1, 'S', 'D')\n",
    "data$response <- as.factor(data$response)\n",
    "\n",
    "data2 <- data %>% select(-c(y))\n",
    "head(data2)"
   ]
  },
  {
   "cell_type": "markdown",
   "metadata": {},
   "source": [
    "#### 2. Create our own functions to pass tree and nodesize in random forest"
   ]
  },
  {
   "cell_type": "code",
   "execution_count": 4,
   "metadata": {
    "collapsed": false
   },
   "outputs": [
    {
     "data": {
      "text/plain": [
       "$label\n",
       "[1] \"Random Forest\"\n",
       "\n",
       "$library\n",
       "[1] \"randomForest\"\n",
       "\n",
       "$loop\n",
       "NULL\n",
       "\n",
       "$type\n",
       "[1] \"Classification\" \"Regression\"    \n",
       "\n",
       "$parameters\n",
       "  parameter   class                         label\n",
       "1      mtry numeric #Randomly Selected Predictors\n",
       "\n",
       "$grid\n",
       "function (x, y, len = NULL) \n",
       "{\n",
       "    data.frame(mtry = caret::var_seq(p = ncol(x), classification = is.factor(y), \n",
       "        len = len))\n",
       "}\n",
       "\n",
       "$fit\n",
       "function (x, y, wts, param, lev, last, classProbs, ...) \n",
       "randomForest(x, y, mtry = param$mtry, ...)\n",
       "\n",
       "$predict\n",
       "function (modelFit, newdata, submodels = NULL) \n",
       "predict(modelFit, newdata)\n",
       "\n",
       "$prob\n",
       "function (modelFit, newdata, submodels = NULL) \n",
       "predict(modelFit, newdata, type = \"prob\")\n",
       "\n",
       "$predictors\n",
       "function (x, ...) \n",
       "{\n",
       "    varIndex <- as.numeric(names(table(x$forest$bestvar)))\n",
       "    varIndex <- varIndex[varIndex > 0]\n",
       "    varsUsed <- names(x$forest$ncat)[varIndex]\n",
       "    varsUsed\n",
       "}\n",
       "\n",
       "$varImp\n",
       "function (object, ...) \n",
       "{\n",
       "    varImp <- randomForest::importance(object, ...)\n",
       "    if (object$type == \"regression\") \n",
       "        varImp <- data.frame(Overall = varImp[, \"%IncMSE\"])\n",
       "    else {\n",
       "        retainNames <- levels(object$y)\n",
       "        if (all(retainNames %in% colnames(varImp))) {\n",
       "            varImp <- varImp[, retainNames]\n",
       "        }\n",
       "        else {\n",
       "            varImp <- data.frame(Overall = varImp[, 1])\n",
       "        }\n",
       "    }\n",
       "    out <- as.data.frame(varImp)\n",
       "    if (dim(out)[2] == 2) {\n",
       "        tmp <- apply(out, 1, mean)\n",
       "        out[, 1] <- out[, 2] <- tmp\n",
       "    }\n",
       "    out\n",
       "}\n",
       "\n",
       "$levels\n",
       "function (x) \n",
       "x$classes\n",
       "\n",
       "$tags\n",
       "[1] \"Random Forest\"              \"Ensemble Model\"            \n",
       "[3] \"Bagging\"                    \"Implicit Feature Selection\"\n",
       "\n",
       "$sort\n",
       "function (x) \n",
       "x[order(x[, 1]), ]\n"
      ]
     },
     "metadata": {},
     "output_type": "display_data"
    }
   ],
   "source": [
    "fullRF <- getModelInfo(model='rf', regex=FALSE)[[1]]\n",
    "fullRF "
   ]
  },
  {
   "cell_type": "code",
   "execution_count": 5,
   "metadata": {
    "collapsed": true
   },
   "outputs": [],
   "source": [
    "#parameter\n",
    "prm <- data.frame(parameter = c('ntree', 'mtry', 'nodesize'),\n",
    "                  class = rep('numeric',3),\n",
    "                  label = c('ntree', 'mtry', 'nodesize'))\n",
    "\n",
    "fullRF$parameters <- prm\n",
    "\n",
    "#redefine the model function\n",
    "RFfit <- function(x, y, wts, param, lev, last, weights, classProbs, ...){\n",
    "  \n",
    "  randomForest(x = x, y = y, \n",
    "               ntree = param$ntree, \n",
    "               mtry = param$mtry,\n",
    "               nodesize = param$nodesize,...)\n",
    "  \n",
    "}\n",
    "\n",
    "fullRF$fit <- RFfit"
   ]
  },
  {
   "cell_type": "markdown",
   "metadata": {},
   "source": [
    "#### 3. Test our new functions in `train`"
   ]
  },
  {
   "cell_type": "code",
   "execution_count": 6,
   "metadata": {
    "collapsed": false
   },
   "outputs": [
    {
     "name": "stdout",
     "output_type": "stream",
     "text": [
      "Time difference of 5.518552 secs\n"
     ]
    }
   ],
   "source": [
    "ctrl <- trainControl(method='cv', number=3, classProbs=TRUE, \n",
    "                     summaryFunction = twoClassSummary)\n",
    "\n",
    "grid <- expand.grid(ntree = c(10, 50), mtry=c(5, 6), nodesize = c(50, 80))\n",
    "\n",
    "\n",
    "tm1 <- Sys.time()\n",
    "rf_re <- caret::train(response~., data=data2, method=fullRF, tuneGrid=grid,\n",
    "                 trControl=ctrl,metric='ROC')\n",
    "                 #, preProc=c('center', 'scale'))\n",
    "  \n",
    "print( Sys.time()-tm1)\n"
   ]
  },
  {
   "cell_type": "code",
   "execution_count": 7,
   "metadata": {
    "collapsed": false
   },
   "outputs": [
    {
     "data": {
      "text/plain": [
       "Random Forest \n",
       "\n",
       "1309 samples\n",
       "   7 predictor\n",
       "   2 classes: 'D', 'S' \n",
       "\n",
       "No pre-processing\n",
       "Resampling: Cross-Validated (3 fold) \n",
       "Summary of sample sizes: 873, 872, 873 \n",
       "Resampling results across tuning parameters:\n",
       "\n",
       "  ntree  mtry  nodesize  ROC        Sens       Spec       ROC SD    \n",
       "  10     5     50        0.8724670  0.9213219  0.7598344  0.01597703\n",
       "  10     5     80        0.8737246  0.9140448  0.7805383  0.01392912\n",
       "  10     6     50        0.8725496  0.9201054  0.7660455  0.02929949\n",
       "  10     6     80        0.8691415  0.9201098  0.7743271  0.02221739\n",
       "  50     5     50        0.8900877  0.9188933  0.7743271  0.02816517\n",
       "  50     5     80        0.8767199  0.9176856  0.7826087  0.02607718\n",
       "  50     6     50        0.8860131  0.9176812  0.7763975  0.02220675\n",
       "  50     6     80        0.8791604  0.9164778  0.7743271  0.01453076\n",
       "  Sens SD     Spec SD   \n",
       "  0.02746216  0.06032630\n",
       "  0.02728651  0.06096245\n",
       "  0.01918285  0.05209004\n",
       "  0.02203858  0.05635883\n",
       "  0.01712991  0.05567010\n",
       "  0.01786070  0.05379040\n",
       "  0.01862014  0.05414781\n",
       "  0.02203539  0.05635883\n",
       "\n",
       "ROC was used to select the optimal model using  the largest value.\n",
       "The final values used for the model were ntree = 50, mtry = 5 and nodesize = 50. "
      ]
     },
     "metadata": {},
     "output_type": "display_data"
    }
   ],
   "source": [
    "rf_re"
   ]
  },
  {
   "cell_type": "code",
   "execution_count": 8,
   "metadata": {
    "collapsed": false
   },
   "outputs": [
    {
     "data": {
      "text/html": [
       "<table>\n",
       "<thead><tr><th scope=col>ntree</th><th scope=col>mtry</th><th scope=col>nodesize</th></tr></thead>\n",
       "<tbody>\n",
       "\t<tr><td>10</td><td>5 </td><td>50</td></tr>\n",
       "\t<tr><td>50</td><td>5 </td><td>50</td></tr>\n",
       "\t<tr><td>10</td><td>6 </td><td>50</td></tr>\n",
       "\t<tr><td>50</td><td>6 </td><td>50</td></tr>\n",
       "\t<tr><td>10</td><td>5 </td><td>80</td></tr>\n",
       "\t<tr><td>50</td><td>5 </td><td>80</td></tr>\n",
       "\t<tr><td>10</td><td>6 </td><td>80</td></tr>\n",
       "\t<tr><td>50</td><td>6 </td><td>80</td></tr>\n",
       "</tbody>\n",
       "</table>\n"
      ],
      "text/latex": [
       "\\begin{tabular}{r|lll}\n",
       " ntree & mtry & nodesize\\\\\n",
       "\\hline\n",
       "\t 10 & 5  & 50\\\\\n",
       "\t 50 & 5  & 50\\\\\n",
       "\t 10 & 6  & 50\\\\\n",
       "\t 50 & 6  & 50\\\\\n",
       "\t 10 & 5  & 80\\\\\n",
       "\t 50 & 5  & 80\\\\\n",
       "\t 10 & 6  & 80\\\\\n",
       "\t 50 & 6  & 80\\\\\n",
       "\\end{tabular}\n"
      ],
      "text/markdown": [
       "\n",
       "ntree | mtry | nodesize | \n",
       "|---|---|---|---|---|---|---|---|\n",
       "| 10 | 5  | 50 | \n",
       "| 50 | 5  | 50 | \n",
       "| 10 | 6  | 50 | \n",
       "| 50 | 6  | 50 | \n",
       "| 10 | 5  | 80 | \n",
       "| 50 | 5  | 80 | \n",
       "| 10 | 6  | 80 | \n",
       "| 50 | 6  | 80 | \n",
       "\n",
       "\n"
      ],
      "text/plain": [
       "  ntree mtry nodesize\n",
       "1 10    5    50      \n",
       "2 50    5    50      \n",
       "3 10    6    50      \n",
       "4 50    6    50      \n",
       "5 10    5    80      \n",
       "6 50    5    80      \n",
       "7 10    6    80      \n",
       "8 50    6    80      "
      ]
     },
     "metadata": {},
     "output_type": "display_data"
    }
   ],
   "source": [
    "grid"
   ]
  },
  {
   "cell_type": "code",
   "execution_count": null,
   "metadata": {
    "collapsed": true
   },
   "outputs": [],
   "source": []
  }
 ],
 "metadata": {
  "kernelspec": {
   "display_name": "R 3.3",
   "language": "R",
   "name": "ir32"
  },
  "language_info": {
   "codemirror_mode": "r",
   "file_extension": ".r",
   "mimetype": "text/x-r-source",
   "name": "R",
   "pygments_lexer": "r",
   "version": "3.3.2"
  }
 },
 "nbformat": 4,
 "nbformat_minor": 1
}
